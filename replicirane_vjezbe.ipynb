{
 "cells": [
  {
   "cell_type": "code",
   "execution_count": 376,
   "metadata": {},
   "outputs": [],
   "source": [
    "import numpy as np"
   ]
  },
  {
   "cell_type": "code",
   "execution_count": 377,
   "metadata": {},
   "outputs": [],
   "source": [
    "X = np.array([\n",
    "    [0, 0],\n",
    "    [1, 0],\n",
    "    [0, 1],\n",
    "    [1, 1]\n",
    "])\n",
    "\n",
    "y = np.array([\n",
    "    [0],\n",
    "    [1],\n",
    "    [1],\n",
    "    [0],\n",
    "])"
   ]
  },
  {
   "cell_type": "code",
   "execution_count": 378,
   "metadata": {},
   "outputs": [],
   "source": [
    "W1 = np.array([\n",
    "    [0.2, 0.9],\n",
    "    [-0.9, 0.8]\n",
    "])\n",
    "\n",
    "b1 = np.array([\n",
    "    [-0.3],\n",
    "    [0.2]\n",
    "])\n",
    "\n",
    "W2 = np.array([\n",
    "    [-0.2, -0.9],\n",
    "])\n",
    "\n",
    "b2 = np.array([\n",
    "    [0.7]\n",
    "])"
   ]
  },
  {
   "cell_type": "code",
   "execution_count": 379,
   "metadata": {},
   "outputs": [
    {
     "data": {
      "text/plain": [
       "(array([[-0.3],\n",
       "        [ 0.2]]),\n",
       " array([[-0.14888503],\n",
       "        [ 0.09966799]]),\n",
       " array([[0.64007581]]))"
      ]
     },
     "execution_count": 379,
     "metadata": {},
     "output_type": "execute_result"
    }
   ],
   "source": [
    "# Z1 = 0\n",
    "# Z2 = 0\n",
    "# D = 0\n",
    "\n",
    "X1 = np.expand_dims(X[0], 0)\n",
    "y1 = y[0]\n",
    "h = W1 @ X1.T + b1\n",
    "h\n",
    "\n",
    "# kriva tanh formula na prezentaciji?\n",
    "# y1 = np.tanh(h1) \n",
    "# [[-0.29131261],\n",
    "#  [ 0.19737532]\n",
    "\n",
    "H = 2/(1+np.exp(-h)) - 1\n",
    "H\n",
    "\n",
    "O = W2 @ H + b2\n",
    "h, H, O"
   ]
  },
  {
   "cell_type": "code",
   "execution_count": 380,
   "metadata": {},
   "outputs": [
    {
     "data": {
      "text/plain": [
       "(array([[-0.09529771,  0.06379507]]), array([[0.64007581]]))"
      ]
     },
     "execution_count": 380,
     "metadata": {},
     "output_type": "execute_result"
    }
   ],
   "source": [
    "dW2 = -(y1-O)*H.T\n",
    "db2 = -(y1-O)\n",
    "dW2, db2"
   ]
  },
  {
   "cell_type": "code",
   "execution_count": 381,
   "metadata": {},
   "outputs": [],
   "source": [
    "dH = -(y1-O)*W2.T\n",
    "dh = 0.5*(1-np.square(H))\n",
    "dW1 = dH*dh*X1.T\n",
    "db1 = dH*dh"
   ]
  },
  {
   "cell_type": "code",
   "execution_count": 382,
   "metadata": {},
   "outputs": [
    {
     "name": "stdout",
     "output_type": "stream",
     "text": [
      "Prvi par:\n",
      "Izlaz: 0.6401\n",
      "\n",
      "Sakriveni sloj težine: \n",
      "[[ 0.2  0.9]\n",
      " [-0.9  0.8]]\n",
      "Sakriveni sloj bias: \n",
      "[[-0.29374113]\n",
      " [ 0.22851729]]\n",
      "\n",
      "Izlazni sloj težine: \n",
      "[[-0.19047023 -0.90637951]]\n",
      "Izlazni sloj bias: \n",
      "[[0.63599242]]\n"
     ]
    }
   ],
   "source": [
    "W1 = W1 - 0.1*dW1\n",
    "b1 = b1 - 0.1*db1\n",
    "W2 = W2 - 0.1*dW2\n",
    "b2 = b2 - 0.1*db2\n",
    "\n",
    "print(f'Prvi par:\\nIzlaz: {O.item():.4f}\\n')\n",
    "print(f'Sakriveni sloj težine: \\n{W1}\\nSakriveni sloj bias: \\n{b1}\\n')\n",
    "print(f'Izlazni sloj težine: \\n{W2}\\nIzlazni sloj bias: \\n{b2}')"
   ]
  },
  {
   "cell_type": "code",
   "execution_count": 383,
   "metadata": {},
   "outputs": [
    {
     "name": "stdout",
     "output_type": "stream",
     "text": [
      "Drugi par:\n",
      "Izlaz: 0.9383\n",
      "\n",
      "Sakriveni sloj težine: \n",
      "[[ 0.19941351  0.89941351]\n",
      " [-0.9         0.8       ]]\n",
      "Sakriveni sloj bias: \n",
      "[[-0.29432761]\n",
      " [ 0.22601328]]\n",
      "\n",
      "Izlazni sloj težine: \n",
      "[[-0.1907593  -0.90837716]]\n",
      "Izlazni sloj bias: \n",
      "[[0.64216428]]\n"
     ]
    }
   ],
   "source": [
    "# Z1 = 1\n",
    "# Z2 = 0\n",
    "# D = 1\n",
    "\n",
    "X2 = np.expand_dims(X[1], 0)\n",
    "y2 = y[1]\n",
    "\n",
    "h = W1 @ X2.T + b1\n",
    "H = 2/(1+np.exp(-h)) - 1\n",
    "O = W2 @ H + b2\n",
    "\n",
    "dW2 = -(y2-O)*H.T\n",
    "db2 = -(y2-O)\n",
    "\n",
    "dH = -(y2-O)*W2.T\n",
    "dh = 0.5*(1-np.square(H))\n",
    "dW1 = dH*dh*X2.T\n",
    "db1 = dH*dh\n",
    "\n",
    "W1 = W1 - 0.1*dW1\n",
    "b1 = b1 - 0.1*db1\n",
    "W2 = W2 - 0.1*dW2\n",
    "b2 = b2 - 0.1*db2\n",
    "\n",
    "print(f'Drugi par:\\nIzlaz: {O.item():.4f}\\n')\n",
    "print(f'Sakriveni sloj težine: \\n{W1}\\nSakriveni sloj bias: \\n{b1}\\n')\n",
    "print(f'Izlazni sloj težine: \\n{W2}\\nIzlazni sloj bias: \\n{b2}')"
   ]
  },
  {
   "cell_type": "code",
   "execution_count": 384,
   "metadata": {},
   "outputs": [
    {
     "name": "stdout",
     "output_type": "stream",
     "text": [
      "Treći par:\n",
      "Izlaz: 0.1571\n",
      "\n",
      "Sakriveni sloj težine: \n",
      "[[ 0.19941351  0.89941351]\n",
      " [-0.92974298  0.77025702]]\n",
      "Sakriveni sloj bias: \n",
      "[[-0.30167364]\n",
      " [ 0.19627031]]\n",
      "\n",
      "Izlazni sloj težine: \n",
      "[[-0.16600965 -0.86857007]]\n",
      "Izlazni sloj bias: \n",
      "[[0.72645052]]\n"
     ]
    }
   ],
   "source": [
    "# Z1 = 0\n",
    "# Z2 = 1\n",
    "# D = 1\n",
    "\n",
    "X3 = np.expand_dims(X[2], 0)\n",
    "y3 = y[2]\n",
    "\n",
    "h = W1 @ X3.T + b1\n",
    "H = 2/(1+np.exp(-h)) - 1\n",
    "O = W2 @ H + b2\n",
    "\n",
    "dW2 = -(y3-O)*H.T\n",
    "db2 = -(y3-O)\n",
    "\n",
    "dH = -(y3-O)*W2.T\n",
    "dh = 0.5*(1-np.square(H))\n",
    "dW1 = dH*dh*X3.T\n",
    "db1 = dH*dh\n",
    "\n",
    "W1 = W1 - 0.1*dW1\n",
    "b1 = b1 - 0.1*db1\n",
    "W2 = W2 - 0.1*dW2\n",
    "b2 = b2 - 0.1*db2\n",
    "\n",
    "print(f'Treći par:\\nIzlaz: {O.item():.4f}\\n')\n",
    "print(f'Sakriveni sloj težine: \\n{W1}\\nSakriveni sloj bias: \\n{b1}\\n')\n",
    "print(f'Izlazni sloj težine: \\n{W2}\\nIzlazni sloj bias: \\n{b2}')"
   ]
  },
  {
   "cell_type": "code",
   "execution_count": 385,
   "metadata": {},
   "outputs": [
    {
     "name": "stdout",
     "output_type": "stream",
     "text": [
      "Četvrti par:\n",
      "Izlaz: 0.6476\n",
      "\n",
      "Sakriveni sloj težine: \n",
      "[[ 0.20401791  0.90401791]\n",
      " [-0.90162799  0.79837201]]\n",
      "Sakriveni sloj bias: \n",
      "[[-0.30901967]\n",
      " [ 0.16652733]]\n",
      "\n",
      "Izlazni sloj težine: \n",
      "[[-0.19053641 -0.86976102]]\n",
      "Izlazni sloj bias: \n",
      "[[0.66169007]]\n"
     ]
    }
   ],
   "source": [
    "# Z1 = 1\n",
    "# Z2 = 1\n",
    "# D = 0\n",
    "\n",
    "X4 = np.expand_dims(X[3], 0)\n",
    "y4 = y[3]\n",
    "\n",
    "h = W1 @ X4.T + b1\n",
    "H = 2/(1+np.exp(-h)) - 1\n",
    "O = W2 @ H + b2\n",
    "\n",
    "dW2 = -(y4-O)*H.T\n",
    "db2 = -(y4-O)\n",
    "\n",
    "dH = -(y4-O)*W2.T\n",
    "dh = 0.5*(1-np.square(H))\n",
    "dW1 = dH*dh*X4.T\n",
    "\n",
    "W1 = W1 - 0.1*dW1\n",
    "b1 = b1 - 0.1*db1\n",
    "W2 = W2 - 0.1*dW2\n",
    "b2 = b2 - 0.1*db2\n",
    "\n",
    "print(f'Četvrti par:\\nIzlaz: {O.item():.4f}\\n')\n",
    "print(f'Sakriveni sloj težine: \\n{W1}\\nSakriveni sloj bias: \\n{b1}\\n')\n",
    "print(f'Izlazni sloj težine: \\n{W2}\\nIzlazni sloj bias: \\n{b2}')"
   ]
  },
  {
   "cell_type": "code",
   "execution_count": 386,
   "metadata": {},
   "outputs": [
    {
     "data": {
      "text/plain": [
       "(array([[ 0.20401791,  0.90401791],\n",
       "        [-0.90162799,  0.79837201]]),\n",
       " array([[-0.30901967],\n",
       "        [ 0.16652733]]),\n",
       " array([[-0.19053641, -0.86976102]]),\n",
       " array([[0.66169007]]))"
      ]
     },
     "execution_count": 386,
     "metadata": {},
     "output_type": "execute_result"
    }
   ],
   "source": [
    "W1, b1, W2, b2"
   ]
  },
  {
   "cell_type": "code",
   "execution_count": 387,
   "metadata": {},
   "outputs": [],
   "source": [
    "# za usporedbu vrijednostima s prezentacije, jer su meni weights and bias malo drugaciji, vjerojatno zbog formata podataka\n",
    "\n",
    "W1 = np.array([\n",
    "    [0.2039, 0.8972],\n",
    "    [-0.8749, 0.7979]\n",
    "])\n",
    "\n",
    "b1 = np.array([\n",
    "    [-0.2971],\n",
    "    [0.2239]\n",
    "])\n",
    "\n",
    "W2 = np.array([\n",
    "    [-0.1899, -0.8706],\n",
    "])\n",
    "\n",
    "b2 = np.array([\n",
    "    [0.6628]\n",
    "])"
   ]
  },
  {
   "cell_type": "code",
   "execution_count": 388,
   "metadata": {},
   "outputs": [],
   "source": [
    "def forward(X):\n",
    "    h = W1 @ X.T + b1\n",
    "    H = 2/(1+np.exp(-h)) - 1\n",
    "    O = W2 @ H + b2\n",
    "\n",
    "    return O"
   ]
  },
  {
   "cell_type": "code",
   "execution_count": 389,
   "metadata": {},
   "outputs": [
    {
     "data": {
      "text/plain": [
       "array([[0.59374542],\n",
       "       [0.94542187],\n",
       "       [0.19772652],\n",
       "       [0.52649214]])"
      ]
     },
     "execution_count": 389,
     "metadata": {},
     "output_type": "execute_result"
    }
   ],
   "source": [
    "y_pred = forward(X).T\n",
    "y_pred"
   ]
  },
  {
   "cell_type": "code",
   "execution_count": 390,
   "metadata": {},
   "outputs": [
    {
     "data": {
      "text/plain": [
       "2.1277675727521252"
      ]
     },
     "execution_count": 390,
     "metadata": {},
     "output_type": "execute_result"
    }
   ],
   "source": [
    "MS = np.square(y_pred-y).sum() / len(y_pred)\n",
    "RMS = np.sqrt(MS)\n",
    "NRMS = RMS / np.std(y_pred)\n",
    "NRMS\n",
    "\n",
    "# u prezentaciji NRMS = 1,129765 ?"
   ]
  }
 ],
 "metadata": {
  "kernelspec": {
   "display_name": "Python 3",
   "language": "python",
   "name": "python3"
  },
  "language_info": {
   "codemirror_mode": {
    "name": "ipython",
    "version": 3
   },
   "file_extension": ".py",
   "mimetype": "text/x-python",
   "name": "python",
   "nbconvert_exporter": "python",
   "pygments_lexer": "ipython3",
   "version": "3.12.1"
  }
 },
 "nbformat": 4,
 "nbformat_minor": 2
}
