{
 "cells": [
  {
   "cell_type": "code",
   "execution_count": 313,
   "metadata": {},
   "outputs": [],
   "source": [
    "import numpy as np \n",
    "import matplotlib.pyplot as plt"
   ]
  },
  {
   "cell_type": "code",
   "execution_count": 314,
   "metadata": {},
   "outputs": [],
   "source": [
    "X = np.array([\n",
    "    [0, 0],\n",
    "    [1, 0],\n",
    "    [0, 1],\n",
    "    [1, 1]\n",
    "])\n",
    "\n",
    "y = np.array([\n",
    "    [0],\n",
    "    [1],\n",
    "    [1],\n",
    "    [0],\n",
    "])\n",
    "\n",
    "W1 = np.array([\n",
    "    [0.2, 0.9],\n",
    "    [-0.9, 0.8]\n",
    "])\n",
    "\n",
    "b1 = np.array([\n",
    "    [-0.3, 0.2]\n",
    "])\n",
    "\n",
    "W2 = np.array([\n",
    "    [-0.2, -0.9],\n",
    "])\n",
    "\n",
    "b2 = np.array([\n",
    "    [0.7]\n",
    "])"
   ]
  },
  {
   "cell_type": "code",
   "execution_count": 315,
   "metadata": {},
   "outputs": [],
   "source": [
    "def aktivacijska_fn1(z): # korištena je u sakrivenom sloju\n",
    "    return 2/(1+np.exp(-z)) - 1\n",
    "\n",
    "def aktivacijska_fn1_derivacija(z):\n",
    "    return 0.5*(1-np.square(z))\n",
    "\n",
    "def aktivacijska_fn2(z): # korištena u izlaznom sloju\n",
    "    return 1/(1+np.exp(-z))\n",
    "    \n",
    "def aktivacijska_fn2_derivacija(z):\n",
    "    return z*(1-z)"
   ]
  },
  {
   "cell_type": "code",
   "execution_count": 316,
   "metadata": {},
   "outputs": [],
   "source": [
    "def forward(z):\n",
    "    h = z @ W1.T + b1\n",
    "    H = aktivacijska_fn1(h) \n",
    "    o = H @ W2.T + b2\n",
    "    O = aktivacijska_fn2(o)\n",
    "\n",
    "    return O"
   ]
  },
  {
   "cell_type": "code",
   "execution_count": 317,
   "metadata": {},
   "outputs": [],
   "source": [
    "BROJ_ITERACIJA = 300\n",
    "loss_history = []\n",
    "learning_rate = 1\n",
    "momentum = 0.9\n",
    "\n",
    "vW1 = np.zeros_like(W1)\n",
    "vW2 = np.zeros_like(W2)\n",
    "vb1 = np.zeros_like(b1)\n",
    "vb2 = np.zeros_like(b2)\n",
    "\n",
    "for i in range(BROJ_ITERACIJA):\n",
    "    # forward\n",
    "    h = X @ W1.T + b1\n",
    "    H = aktivacijska_fn1(h) \n",
    "    o = H @ W2.T + b2\n",
    "    O = aktivacijska_fn2(o)\n",
    "\n",
    "    # backprop\n",
    "    error = y - O \n",
    "    do = error * aktivacijska_fn2_derivacija(O)\n",
    "    dH = do @ W2\n",
    "    dh = dH * aktivacijska_fn1_derivacija(H)\n",
    "    dW2 = do.T @ H\n",
    "    dW1 = dh.T @ X\n",
    "    db2 = do.sum()\n",
    "    db1 = dh.mean(axis=0)\n",
    "\n",
    "    # momentum\n",
    "    vW2 = learning_rate * dW2 + momentum * vW2\n",
    "    vW1 = learning_rate * dW1 + momentum * vW1\n",
    "    vb2 = learning_rate * db2 + momentum * vb2\n",
    "    vb1 = learning_rate * db1 + momentum * vb1\n",
    "\n",
    "    # optimization step\n",
    "    W2 += vW2\n",
    "    W1 += vW1\n",
    "    b2 += vb2\n",
    "    b1 += vb1\n",
    "    \n",
    "    # loss\n",
    "    MS = np.mean(np.square(error))\n",
    "    RMS = np.sqrt(MS)\n",
    "    NRMS = RMS / np.sqrt(np.mean(np.square(O - np.mean(y))))\n",
    "    \n",
    "    loss = RMS\n",
    "    loss_history.append(loss)"
   ]
  },
  {
   "cell_type": "code",
   "execution_count": 318,
   "metadata": {},
   "outputs": [
    {
     "data": {
      "image/png": "[encoded data removed]",
      "text/plain": [
       "<Figure size 640x480 with 1 Axes>"
      ]
     },
     "metadata": {},
     "output_type": "display_data"
    }
   ],
   "source": [
    "plt.plot(range(BROJ_ITERACIJA), loss_history)\n",
    "plt.xlabel(\"Iteracija\")\n",
    "plt.ylabel(\"RMS\")\n",
    "plt.title(\"Greška modela kroz iteracije\")\n",
    "plt.show()"
   ]
  },
  {
   "cell_type": "code",
   "execution_count": 319,
   "metadata": {},
   "outputs": [
    {
     "name": "stdout",
     "output_type": "stream",
     "text": [
      "Konačan gubitak (RMS): 0.009297661385321144\n"
     ]
    }
   ],
   "source": [
    "print(f\"Konačan gubitak (RMS): {loss}\")"
   ]
  },
  {
   "cell_type": "code",
   "execution_count": 320,
   "metadata": {},
   "outputs": [
    {
     "name": "stdout",
     "output_type": "stream",
     "text": [
      "Ulazna vrijednost: [0 0] --> Izlazna vrijednost: 0.011\n",
      "Ulazna vrijednost: [1 0] --> Izlazna vrijednost: 0.989\n",
      "Ulazna vrijednost: [0 1] --> Izlazna vrijednost: 0.990\n",
      "Ulazna vrijednost: [1 1] --> Izlazna vrijednost: 0.002\n"
     ]
    }
   ],
   "source": [
    "preds = forward(X).tolist()\n",
    "for i, o in enumerate(preds):\n",
    "    print(f'Ulazna vrijednost: {X[i]} --> Izlazna vrijednost: {o[0]:.3f}')"
   ]
  }
 ],
 "metadata": {
  "kernelspec": {
   "display_name": "Python 3",
   "language": "python",
   "name": "python3"
  },
  "language_info": {
   "codemirror_mode": {
    "name": "ipython",
    "version": 3
   },
   "file_extension": ".py",
   "mimetype": "text/x-python",
   "name": "python",
   "nbconvert_exporter": "python",
   "pygments_lexer": "ipython3",
   "version": "3.12.1"
  }
 },
 "nbformat": 4,
 "nbformat_minor": 2
}
