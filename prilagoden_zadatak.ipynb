{
 "cells": [
  {
   "cell_type": "code",
   "execution_count": 1100,
   "metadata": {},
   "outputs": [],
   "source": [
    "import numpy as np\n",
    "import matplotlib.pyplot as plt"
   ]
  },
  {
   "cell_type": "code",
   "execution_count": 1101,
   "metadata": {},
   "outputs": [],
   "source": [
    "class XOR_podaci:\n",
    "    X = np.float64([\n",
    "    [0, 0],\n",
    "    [1, 0],\n",
    "    [0, 1],\n",
    "    [1, 1]\n",
    "    ])\n",
    "\n",
    "    y = np.float64([\n",
    "        [0],\n",
    "        [1],\n",
    "        [1],\n",
    "        [0],\n",
    "    ])\n",
    "    \n",
    "    W1 = np.float64([\n",
    "        [0.2, 0.9],\n",
    "        [-0.9, 0.8]\n",
    "    ])\n",
    "    \n",
    "    b1 = np.float64([\n",
    "        [-0.3, 0.2]\n",
    "    ])\n",
    "    \n",
    "    W2 = np.float64([\n",
    "        [-0.2, -0.9],\n",
    "    ])\n",
    "    \n",
    "    b2 = np.float64([\n",
    "        [0.7]\n",
    "    ])"
   ]
  },
  {
   "cell_type": "code",
   "execution_count": 1102,
   "metadata": {},
   "outputs": [
    {
     "data": {
      "text/plain": [
       "dtype('float64')"
      ]
     },
     "execution_count": 1102,
     "metadata": {},
     "output_type": "execute_result"
    }
   ],
   "source": [
    "XOR_podaci.W1.dtype"
   ]
  },
  {
   "cell_type": "code",
   "execution_count": 1103,
   "metadata": {},
   "outputs": [],
   "source": [
    "# za pretvaranja txt filea u format za obradu\n",
    "def file_into_array(file):\n",
    "    line_into_list = [i.split(' ') for i in file.read().splitlines()]\n",
    "    return [\n",
    "    [float(x) for x in sublist if x]\n",
    "    for sublist in line_into_list\n",
    "    ]"
   ]
  },
  {
   "cell_type": "code",
   "execution_count": 1104,
   "metadata": {},
   "outputs": [],
   "source": [
    "# učitavanje text file-ova u varijable\n",
    "with open('podaci/Z.txt', 'r') as file:\n",
    "    Z = file_into_array(file)\n",
    "\n",
    "with open('podaci/D.txt', 'r') as file:\n",
    "    D = file_into_array(file)\n",
    "\n",
    "with open('podaci/V.txt', 'r') as file:\n",
    "    V = file_into_array(file)\n",
    "\n",
    "with open('podaci/W.txt', 'r') as file:\n",
    "    W = file_into_array(file)"
   ]
  },
  {
   "cell_type": "code",
   "execution_count": 1105,
   "metadata": {},
   "outputs": [
    {
     "name": "stdout",
     "output_type": "stream",
     "text": [
      "Z (prva 3): [[1.0, 0.0], [1.0, 0.16667], [1.0, 0.30556]]\n",
      "D (prva 3): [[0.16667], [0.30556], [0.4213]]\n",
      "V (prvi): [[-0.017115, -0.0086488, 0.011093]]\n",
      "W: [[-0.010689, -0.008095, -0.029443, 0.014384, 0.0032519, -0.0075493]]\n"
     ]
    }
   ],
   "source": [
    "print(f'Z (prva 3): {Z[:3]}')\n",
    "print(f'D (prva 3): {D[:3]}')\n",
    "print(f'V (prvi): {V[:1]}')\n",
    "print(f'W: {W}')"
   ]
  },
  {
   "cell_type": "code",
   "execution_count": 1106,
   "metadata": {},
   "outputs": [],
   "source": [
    "class P1_ident_podaci:\n",
    "    X = np.array(Z)\n",
    "    y = np.array(D)\n",
    "    W1 = np.array([i[:2] for i in V])\n",
    "    b1 = np.array([i[2:] for i in V]).T\n",
    "    W2 = np.array([i[:-1] for i in W])\n",
    "    b2 = np.expand_dims(np.array([i[-1] for i in W]), axis=0)"
   ]
  },
  {
   "cell_type": "code",
   "execution_count": 1107,
   "metadata": {},
   "outputs": [],
   "source": [
    "def aktivacijska_funkcija1(z, derivacija=False):\n",
    "    if derivacija:\n",
    "        return 0.5*(1-np.square(z))\n",
    "    else:\n",
    "        return 2/(1+np.exp(-z)) - 1\n",
    "    \n",
    "def aktivacijska_funkcija2(z, derivacija=False):\n",
    "    if derivacija:\n",
    "        return z*(1-z)\n",
    "    else:\n",
    "        return 1/(1+np.exp(-z))"
   ]
  },
  {
   "cell_type": "code",
   "execution_count": 1108,
   "metadata": {},
   "outputs": [],
   "source": [
    "def forward(z, podaci, aktivacijska_funkcija):\n",
    "    h = z @ podaci.W1.T + podaci.b1\n",
    "    H = aktivacijska_funkcija(h) \n",
    "    O = H @ podaci.W2.T + podaci.b2\n",
    "\n",
    "    return O"
   ]
  },
  {
   "cell_type": "code",
   "execution_count": 1109,
   "metadata": {},
   "outputs": [],
   "source": [
    "def train(podaci, iteracije, learning_rate, momentum, aktivacijska_funkcija):\n",
    "    loss_history = []\n",
    "\n",
    "    X_ = podaci.X\n",
    "    y_ = podaci.y\n",
    "\n",
    "    deltaW1, deltaW2, deltab1, deltab2 = 0, 0, 0, 0\n",
    "\n",
    "    for i in range(iteracije):\n",
    "\n",
    "        for j in range(len(X_)):\n",
    "            X = np.expand_dims(X_[j], axis=0)\n",
    "            y = np.expand_dims(y_[j], axis=0)\n",
    "            \n",
    "            # forward\n",
    "            h = X @ podaci.W1.T + podaci.b1\n",
    "            H = aktivacijska_funkcija(h) \n",
    "            O = H @ podaci.W2.T + podaci.b2 \n",
    "        \n",
    "            # backprop\n",
    "            error = -(y - O)\n",
    "            dW2 = error * H\n",
    "            db2 = error\n",
    "            dH = error * podaci.W2\n",
    "            dh = aktivacijska_funkcija(H, derivacija=True)\n",
    "            # print(dH.shape, dh.shape, X.shape, podaci.W1.shape)\n",
    "            # print(np.expand_dims(X, axis=1) @ dh)\n",
    "            # dW1 = np.expand_dims(X, axis=1) @ (dh * dH)\n",
    "            # print(np.expand_dims(X, axis=0).shape)\n",
    "            dW1 = (dH * dh).T @ X\n",
    "            db1 = dH * dh\n",
    "            \n",
    "            # optimization step\n",
    "            podaci.W2 = podaci.W2 - learning_rate * dW2 + momentum * deltaW2\n",
    "            podaci.W1 = podaci.W1 - learning_rate * dW1 + momentum * deltaW1\n",
    "            podaci.b2 = podaci.b2 - learning_rate * db2 + momentum * deltab2\n",
    "            podaci.b1 = podaci.b1 - learning_rate * db1 + momentum * deltab1\n",
    "\n",
    "            # momentum\n",
    "            deltaW2 = -learning_rate * dW2 + momentum * deltaW2\n",
    "            deltaW1 = -learning_rate * dW1 + momentum * deltaW1\n",
    "            deltab2 = -learning_rate * db2 + momentum * deltab2\n",
    "            deltab1 = -learning_rate * db1 + momentum * deltab1\n",
    "            \n",
    "            # momentum\n",
    "            # mW2 = learning_rate * dW2 + momentum * mW2  \n",
    "            # mb2 = learning_rate * db2 + momentum * mb2\n",
    "            # mW1 = learning_rate * dW1 + momentum * mW1\n",
    "            # mb1 = learning_rate * db1 + momentum * mb1\n",
    "\n",
    "      \n",
    "        # if (i+1 == 1 or i+1 == 10 or i+1 == 100 or i+1 == 500 or i+1 == 1000 or i+1 == 1500):\n",
    "        #     y_pred = forward(z=X_, podaci=podaci, aktivacijska_funkcija=aktivacijska_funkcija)\n",
    "        #     y_pred = y_pred\n",
    "        #     print(f'Prolaz: {i + 1}')\n",
    "        #     print(f'Izlaz: {y_pred}')\n",
    "        #     print(f'W1: {podaci.W1}')\n",
    "        #     print(f'b1: {podaci.b1}')\n",
    "        #     print(f'W2: {podaci.W2}')\n",
    "        #     print(f'b2: {podaci.b2}')\n",
    "\n",
    "        # loss\n",
    "        y_pred = forward(z=X_, podaci=podaci, aktivacijska_funkcija=aktivacijska_funkcija)\n",
    "        y_pred = y_pred\n",
    "\n",
    "        MS = np.mean(np.square(y_pred - y_))\n",
    "        RMS = np.sqrt(MS)\n",
    "        NRMS = RMS / np.sqrt(np.mean(np.square(y_ - np.mean(y_))))\n",
    "        \n",
    "        loss = NRMS\n",
    "        loss_history.append(loss)\n",
    "\n",
    "    print(f\"Konačan gubitak (NRMS): {loss}\")\n",
    "\n",
    "    # preds = forward(X_, podaci=podaci, aktivacijska_funkcija=aktivacijska_funkcija).tolist()\n",
    "    # for i, o in enumerate(preds):\n",
    "    #     print(f'Ulazna vrijednost: {X_[i]} --> Izlazna vrijednost: {o[0]:.3f}')\n",
    "        \n",
    "    plt.plot(range(iteracije), loss_history)\n",
    "    plt.xlabel(\"Iteracija\")\n",
    "    plt.ylabel(\"NRMS\")\n",
    "    plt.title(\"Greška modela kroz iteracije\")\n",
    "    plt.show()\n",
    "       \n"
   ]
  },
  {
   "cell_type": "code",
   "execution_count": 1110,
   "metadata": {},
   "outputs": [
    {
     "name": "stdout",
     "output_type": "stream",
     "text": [
      "Konačan gubitak (NRMS): 0.9906648643939981\n"
     ]
    },
    {
     "data": {
      "image/png": "[encoded data removed]",
      "text/plain": [
       "<Figure size 640x480 with 1 Axes>"
      ]
     },
     "metadata": {},
     "output_type": "display_data"
    }
   ],
   "source": [
    "train(\n",
    "    podaci=XOR_podaci,\n",
    "    aktivacijska_funkcija=aktivacijska_funkcija1,\n",
    "    iteracije=330,\n",
    "    learning_rate=0.1,\n",
    "    momentum=0.3\n",
    ")"
   ]
  }
 ],
 "metadata": {
  "kernelspec": {
   "display_name": "Python 3",
   "language": "python",
   "name": "python3"
  },
  "language_info": {
   "codemirror_mode": {
    "name": "ipython",
    "version": 3
   },
   "file_extension": ".py",
   "mimetype": "text/x-python",
   "name": "python",
   "nbconvert_exporter": "python",
   "pygments_lexer": "ipython3",
   "version": "3.12.1"
  }
 },
 "nbformat": 4,
 "nbformat_minor": 2
}
